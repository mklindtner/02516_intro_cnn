{
 "cells": [
  {
   "cell_type": "code",
   "execution_count": 5,
   "metadata": {
    "id": "DRIhx7PugJy3"
   },
   "outputs": [],
   "source": [
    "import os\n",
    "import numpy as np\n",
    "import glob\n",
    "import PIL.Image as Image\n",
    "from tqdm.notebook import tqdm\n",
    "\n",
    "import torch\n",
    "import torch.nn as nn\n",
    "import torch.nn.functional as F\n",
    "import torchvision.datasets as datasets\n",
    "from torch.utils.data import DataLoader\n",
    "import torchvision.transforms as transforms\n",
    "import matplotlib.pyplot as plt"
   ]
  },
  {
   "cell_type": "markdown",
   "metadata": {
    "id": "35PhqXpWUZ7I"
   },
   "source": [
    "We always check that we are running on a GPU"
   ]
  },
  {
   "cell_type": "code",
   "execution_count": 6,
   "metadata": {
    "id": "ic_gOv_pUZeB"
   },
   "outputs": [
    {
     "name": "stdout",
     "output_type": "stream",
     "text": [
      "The code will run on GPU.\n"
     ]
    }
   ],
   "source": [
    "if torch.cuda.is_available():\n",
    "    print(\"The code will run on GPU.\")\n",
    "else:\n",
    "    print(\"The code will run on CPU. Go to Edit->Notebook Settings and choose GPU as the hardware accelerator\")\n",
    "device = torch.device('cuda' if torch.cuda.is_available() else 'cpu')"
   ]
  },
  {
   "cell_type": "markdown",
   "metadata": {
    "id": "sAj64PJYgJzC"
   },
   "source": [
    "We provide you with a class that can load the *hotdog/not hotdog* dataset you should use from /dtu/datasets1/02516/"
   ]
  },
  {
   "cell_type": "code",
   "execution_count": 7,
   "metadata": {
    "id": "4mUlnOuzgJzF"
   },
   "outputs": [],
   "source": [
    "class Hotdog_NotHotdog(torch.utils.data.Dataset):\n",
    "    def __init__(self, train, transform, data_path='/home/mlut/IDLCV/dtu/datasets1/02516/hotdog_nothotdog'):\n",
    "        'Initialization'\n",
    "        self.transform = transform\n",
    "        data_path = os.path.join(data_path, 'train' if train else 'test')\n",
    "        image_classes = [os.path.split(d)[1] for d in glob.glob(data_path +'/*') if os.path.isdir(d)]\n",
    "        image_classes.sort()\n",
    "        self.name_to_label = {c: id for id, c in enumerate(image_classes)}\n",
    "        self.image_paths = glob.glob(data_path + '/*/*.jpg')\n",
    "        \n",
    "    def __len__(self):\n",
    "        'Returns the total number of samples'\n",
    "        return len(self.image_paths)\n",
    "\n",
    "    def __getitem__(self, idx):\n",
    "        'Generates one sample of data'\n",
    "        image_path = self.image_paths[idx]\n",
    "        \n",
    "        image = Image.open(image_path)\n",
    "        c = os.path.split(os.path.split(image_path)[0])[1]\n",
    "        y = self.name_to_label[c]\n",
    "        X = self.transform(image)\n",
    "        return X, y"
   ]
  },
  {
   "cell_type": "code",
   "execution_count": 8,
   "metadata": {},
   "outputs": [
    {
     "name": "stdout",
     "output_type": "stream",
     "text": [
      "2047\n",
      "TRAIN video number: 1365, VAL video number: 682.\n"
     ]
    }
   ],
   "source": [
    "from torchvision import transforms\n",
    "from torch.utils.data import DataLoader, random_split\n",
    "size = 128\n",
    "\n",
    "# Augmented training transformations\n",
    "train_transform = transforms.Compose([\n",
    "    transforms.Resize((size, size)),\n",
    "    transforms.RandomHorizontalFlip(),  # Randomly flip the images horizontally\n",
    "    transforms.RandomRotation(10),      # Randomly rotate the images by 10 degrees\n",
    "    transforms.RandomCrop(size, padding=10),  # Randomly crop a portion of the image\n",
    "    transforms.ColorJitter(brightness=0.2, contrast=0.2, saturation=0.2, hue=0.1),  # Randomly change brightness, contrast, saturation, and hue\n",
    "    transforms.ToTensor()\n",
    "])\n",
    "\n",
    "# Test transformations (without data augmentation)\n",
    "test_transform = transforms.Compose([\n",
    "    transforms.Resize((size, size)),\n",
    "    transforms.ToTensor()\n",
    "])\n",
    "\n",
    "batch_size = 64\n",
    "\n",
    "# Load the augmented training dataset\n",
    "trainset = Hotdog_NotHotdog(train=True, transform=train_transform)\n",
    " \n",
    "\n",
    "print(len(trainset))\n",
    "spl= int(len(trainset)/3)\n",
    "\n",
    "trainset, val_dataset = random_split(trainset, (len(trainset)-spl, spl))\n",
    "print('TRAIN video number: {}, VAL video number: {}.'.format(len(trainset), len(val_dataset)))\n",
    " \n",
    "\n",
    "\n",
    "train_loader = DataLoader(trainset, batch_size=batch_size, shuffle=True, num_workers=3)\n",
    "val_loader = DataLoader(val_dataset, batch_size=batch_size, shuffle=True, num_workers=3)\n",
    "\n",
    "# Load the test dataset (without augmentation)\n",
    "testset = Hotdog_NotHotdog(train=False, transform=test_transform)\n",
    "test_loader = DataLoader(testset, batch_size=batch_size, shuffle=False, num_workers=3)\n",
    "\n",
    "foo, _ = next(iter(test_loader))\n",
    "# print(foo.unsqueeze(1))\n",
    "\n",
    "# print(target.unsqueeze(1))"
   ]
  },
  {
   "cell_type": "markdown",
   "metadata": {
    "id": "JewkmhKlgJzN"
   },
   "source": [
    "Below is the simple way of converting the images to something that can be fed through a network.\n",
    "Feel free to use something other than $128\\times128$ images."
   ]
  },
  {
   "cell_type": "markdown",
   "metadata": {
    "id": "Ho-YRb6HgJzZ"
   },
   "source": [
    "Let's look at some images from our data "
   ]
  },
  {
   "cell_type": "code",
   "execution_count": 4,
   "metadata": {
    "id": "Sm4Ara7dgJza"
   },
   "outputs": [
    {
     "ename": "NameError",
     "evalue": "name 'train_loader' is not defined",
     "output_type": "error",
     "traceback": [
      "\u001b[0;31m---------------------------------------------------------------------------\u001b[0m",
      "\u001b[0;31mNameError\u001b[0m                                 Traceback (most recent call last)",
      "Cell \u001b[0;32mIn[4], line 1\u001b[0m\n\u001b[0;32m----> 1\u001b[0m images, labels \u001b[38;5;241m=\u001b[39m \u001b[38;5;28mnext\u001b[39m(\u001b[38;5;28miter\u001b[39m(\u001b[43mtrain_loader\u001b[49m))\n\u001b[1;32m      2\u001b[0m \u001b[38;5;28mprint\u001b[39m(images\u001b[38;5;241m.\u001b[39mshape) \u001b[38;5;66;03m#(64,3,128,128) ? \u001b[39;00m\n\u001b[1;32m      3\u001b[0m \u001b[38;5;28mprint\u001b[39m(images)\n",
      "\u001b[0;31mNameError\u001b[0m: name 'train_loader' is not defined"
     ]
    }
   ],
   "source": [
    "images, labels = next(iter(train_loader))\n",
    "print(images.shape) #(64,3,128,128) ? \n",
    "print(images)\n",
    "plt.figure(figsize=(20,10))\n",
    "\n",
    "for i in range(21):\n",
    "    plt.subplot(5,7,i+1)\n",
    "    plt.imshow(np.swapaxes(np.swapaxes(images[i].numpy(), 0, 2), 0, 1))\n",
    "    plt.title(['hotdog', 'not hotdog'][labels[i].item()])\n",
    "    plt.axis('off')\n"
   ]
  },
  {
   "cell_type": "markdown",
   "metadata": {
    "id": "JgcJoEkzQ5da"
   },
   "source": [
    "Remember to save the state of your model AND optimizer regularly in case the Colab runtime times out.\n",
    "You can save your model to your google drive, so you can get it from there in a new colab session. \n",
    "\n",
    "If you only save it in the colab notebook, there's no way to get it into a new session."
   ]
  },
  {
   "cell_type": "code",
   "execution_count": 8,
   "metadata": {
    "id": "2FKkPUPmQ_r0"
   },
   "outputs": [],
   "source": [
    "#from google.colab import drive\n",
    "#drive.mount('/content/gdrive')"
   ]
  },
  {
   "cell_type": "markdown",
   "metadata": {
    "id": "12N0EYYsQPhJ"
   },
   "source": [
    "Now create a model and train it!\n"
   ]
  },
  {
   "cell_type": "code",
   "execution_count": 9,
   "metadata": {
    "id": "AuxX7GAnQHQ6"
   },
   "outputs": [],
   "source": [
    "class Network02(nn.Module):\n",
    "    def __init__(self):\n",
    "        super(Network02, self).__init__()\n",
    "        self.convolutional = nn.Sequential(\n",
    "                nn.Conv2d(3, 2**3, kernel_size=3, padding=0), #127\n",
    "                nn.ReLU(),\n",
    "                # nn.MaxPool2d(2, stride=2), #127/2 = 63\n",
    "                nn.Conv2d(2**3, 2**4, kernel_size=3, padding=0), # 126\n",
    "                nn.BatchNorm2d(2**4), #should return 62 ?? \n",
    "                nn.ReLU()\n",
    "        )\n",
    "\n",
    "        self.fully_connected = nn.Sequential(\n",
    "                nn.Linear(16*124*124, 124*124),\n",
    "                nn.ReLU(),\n",
    "                nn.Linear(124*124, 500),\n",
    "                nn.ReLU(),\n",
    "                nn.Linear(500, 250),\n",
    "                nn.ReLU(),\n",
    "                nn.Linear(250, 125),\n",
    "                nn.ReLU(),\n",
    "                nn.Linear(125, 1)\n",
    "        )\n",
    "        # self.sigmoid = \n",
    "    def forward(self, x):\n",
    "        x = self.convolutional(x)        \n",
    "        x = x.view(x.size(0), -1)\n",
    "        x = self.fully_connected(x)\n",
    "        # x = nn.F.sigmoid(x)\n",
    "        # x = nn.Softmax(dim=1)(x)\n",
    "        return x"
   ]
  },
  {
   "cell_type": "code",
   "execution_count": 10,
   "metadata": {},
   "outputs": [],
   "source": [
    "class Network03(nn.Module):\n",
    "    def __init__(self):\n",
    "        super(Network03, self).__init__()\n",
    "        self.convolutional = nn.Sequential(\n",
    "                nn.Conv2d(3, 2**3, kernel_size=3, padding=0), #start with a resolution of 128, after conv, 126\n",
    "                nn.Conv2d(2**3, 2**4, kernel_size=3, padding=0), # 126 input, output 124,\n",
    "                #nn.ReLU()\n",
    "                nn.MaxPool2d(2, stride=2), #max pool, leaves 62 \n",
    "                nn.BatchNorm2d(2**4), \n",
    "                nn.ReLU()\n",
    "        )\n",
    "\n",
    "        self.fully_connected = nn.Sequential(\n",
    "                nn.Linear(16*62*62, 124*124),\n",
    "                nn.ReLU(),\n",
    "                nn.Linear(124*124, 500),\n",
    "                nn.ReLU(),\n",
    "                nn.Linear(500, 250),\n",
    "                nn.ReLU(),\n",
    "                nn.Linear(250, 125),\n",
    "                nn.ReLU(),\n",
    "                nn.Linear(125, 1)\n",
    "        )\n",
    "        # self.sigmoid = \n",
    "    def forward(self, x):\n",
    "        x = self.convolutional(x)        \n",
    "        x = x.view(x.size(0), -1)\n",
    "        x = self.fully_connected(x)\n",
    "        # x = nn.F.sigmoid(x)\n",
    "        # x = nn.Softmax(dim=1)(x)\n",
    "        return torch.sigmoid(x)"
   ]
  },
  {
   "cell_type": "code",
   "execution_count": 10,
   "metadata": {},
   "outputs": [],
   "source": [
    "class Network04(nn.Module):\n",
    "    def __init__(self):\n",
    "        super(Network04, self).__init__()\n",
    "\n",
    "        self.convolutional = nn.Sequential(\n",
    "            nn.Conv2d(in_channels=3, out_channels=32, kernel_size=3, padding=0),\n",
    "            nn.BatchNorm2d(num_features=32),\n",
    "            nn.Conv2d(in_channels=32, out_channels=64, kernel_size=3, padding=0),\n",
    "            nn.BatchNorm2d(num_features=64),\n",
    "            nn.Conv2d(in_channels=64, out_channels=128, kernel_size=3, padding=0),\n",
    "            nn.BatchNorm2d(num_features=128),\n",
    "            nn.MaxPool2d(kernel_size=2, stride=2)\n",
    "        )\n",
    "\n",
    "\n",
    "        self.fully_connected = nn.Sequential(\n",
    "            nn.Linear(in_features=128 * 61 * 61, out_features=512), \n",
    "            nn.ReLU(),\n",
    "            nn.Dropout(p=0.5),\n",
    "            nn.Linear(in_features=512, out_features=128),\n",
    "            nn.ReLU(),\n",
    "            nn.Dropout(p=0.5),\n",
    "            nn.Linear(in_features=128, out_features=1)\n",
    "        )\n",
    "\n",
    "    def forward(self, x):\n",
    "        x = self.convolutional(x)        \n",
    "        x = x.view(x.size(0), -1)  \n",
    "        x = self.fully_connected(x)\n",
    "        return x\n",
    "\n"
   ]
  },
  {
   "cell_type": "code",
   "execution_count": 11,
   "metadata": {},
   "outputs": [
    {
     "name": "stdout",
     "output_type": "stream",
     "text": [
      "torch.Size([64, 3, 128, 128])\n",
      "Shape of the output from the convolutional part torch.Size([64, 128, 61, 61])\n",
      "model works with one minibatch\n"
     ]
    }
   ],
   "source": [
    "model = Network04()\n",
    "model.to(device)\n",
    "#Initialize the optimizer\n",
    "optimizer_sgd = torch.optim.SGD(model.parameters(), lr=0.1)\n",
    "optimizer_adam = torch.optim.Adam(model.parameters(), lr=0.0001)\n",
    "\n",
    "#Get the first minibatc\n",
    "data = next(iter(train_loader))[0].cuda()\n",
    "print(data.shape)\n",
    "# Try running the model on a minibatch\n",
    "print('Shape of the output from the convolutional part', model.convolutional(data).shape)\n",
    "model(data); #if this runs the model dimensions fit\n",
    "print(\"model works with one minibatch\")"
   ]
  },
  {
   "cell_type": "code",
   "execution_count": null,
   "metadata": {},
   "outputs": [],
   "source": [
    "# Martins old evaluation loop commented out at 4/1-24 15:38 when Fatema showed better erformance\n",
    "# import torch.optim as optim\n",
    "\n",
    "# optimizer = optimizer_adam\n",
    "# scheduler = optim.lr_scheduler.ReduceLROnPlateau(optimizer, 'min', min_lr=1e-5, patience=50, factor=0.1)\n",
    " \n",
    "\n",
    "# num_epochs = 5\n",
    "# loss_function = nn.BCEWithLogitsLoss()\n",
    "\n",
    "# for epoch in tqdm(range(num_epochs), unit='epoch'):\n",
    "#     model.train()  \n",
    "#     train_correct = 0\n",
    "#     for minibatch_no, (data, target) in tqdm(enumerate(train_loader), total=len(train_loader)):\n",
    "#         data, target = data.to(device), target.to(device)\n",
    "#         optimizer.zero_grad()\n",
    "#         output = model(data)\n",
    "#         loss = loss_function(output.squeeze(), target.float())  \n",
    "#         loss.backward()\n",
    "#         optimizer.step()\n",
    "#         predicted = (output > 0).float()  # Connverts logits to 0s and 1s\n",
    "#         train_correct += (target == predicted.squeeze()).sum().item()\n",
    "\n",
    "#     model.eval()  # Set the model to evaluation mode\n",
    "#     test_correct = 0\n",
    "#     with torch.no_grad():\n",
    "#         for data, target in test_loader:\n",
    "#             data, target = data.to(device), target.to(device)\n",
    "#             output = model(data)\n",
    "#             predicted = (output > 0).float()  # Convert logits to 0s and 1s\n",
    "#             test_correct += (target == predicted.squeeze()).sum().item()\n",
    "\n",
    "#     train_acc = train_correct / len(trainset)\n",
    "#     test_acc = test_correct / len(testset)\n",
    "#     print(f\"Epoch {epoch+1}/{num_epochs}, Train Accuracy: {train_acc*100:.1f}%, Test Accuracy: {test_acc*100:.1f}%\")\n",
    " "
   ]
  },
  {
   "cell_type": "code",
   "execution_count": 18,
   "metadata": {},
   "outputs": [
    {
     "data": {
      "application/vnd.jupyter.widget-view+json": {
       "model_id": "4d92b3908c7041f496bd80f39440cb89",
       "version_major": 2,
       "version_minor": 0
      },
      "text/plain": [
       "  0%|          | 0/5 [00:00<?, ?epoch/s]"
      ]
     },
     "metadata": {},
     "output_type": "display_data"
    },
    {
     "data": {
      "application/vnd.jupyter.widget-view+json": {
       "model_id": "6d60828701dc430e906ff45bba52939a",
       "version_major": 2,
       "version_minor": 0
      },
      "text/plain": [
       "  0%|          | 0/22 [00:00<?, ?it/s]"
      ]
     },
     "metadata": {},
     "output_type": "display_data"
    },
    {
     "name": "stdout",
     "output_type": "stream",
     "text": [
      "Epoch 1/5, Train Accuracy: 72.7%, val Accuracy: 75.8%\n"
     ]
    },
    {
     "data": {
      "application/vnd.jupyter.widget-view+json": {
       "model_id": "55cd5ed571864afaab0becb12c255958",
       "version_major": 2,
       "version_minor": 0
      },
      "text/plain": [
       "  0%|          | 0/22 [00:00<?, ?it/s]"
      ]
     },
     "metadata": {},
     "output_type": "display_data"
    },
    {
     "name": "stdout",
     "output_type": "stream",
     "text": [
      "Epoch 2/5, Train Accuracy: 73.6%, val Accuracy: 76.5%\n"
     ]
    },
    {
     "data": {
      "application/vnd.jupyter.widget-view+json": {
       "model_id": "0325746cc3b546079ba8f1158c11e384",
       "version_major": 2,
       "version_minor": 0
      },
      "text/plain": [
       "  0%|          | 0/22 [00:00<?, ?it/s]"
      ]
     },
     "metadata": {},
     "output_type": "display_data"
    },
    {
     "name": "stdout",
     "output_type": "stream",
     "text": [
      "Epoch 3/5, Train Accuracy: 73.7%, val Accuracy: 75.2%\n"
     ]
    },
    {
     "data": {
      "application/vnd.jupyter.widget-view+json": {
       "model_id": "32a1830cff444d20970fb4ba1f53c8c0",
       "version_major": 2,
       "version_minor": 0
      },
      "text/plain": [
       "  0%|          | 0/22 [00:00<?, ?it/s]"
      ]
     },
     "metadata": {},
     "output_type": "display_data"
    },
    {
     "name": "stdout",
     "output_type": "stream",
     "text": [
      "Epoch 4/5, Train Accuracy: 72.9%, val Accuracy: 74.5%\n"
     ]
    },
    {
     "data": {
      "application/vnd.jupyter.widget-view+json": {
       "model_id": "e7e9afc4ebef42869ab59b1afb0b6627",
       "version_major": 2,
       "version_minor": 0
      },
      "text/plain": [
       "  0%|          | 0/22 [00:00<?, ?it/s]"
      ]
     },
     "metadata": {},
     "output_type": "display_data"
    },
    {
     "name": "stdout",
     "output_type": "stream",
     "text": [
      "Epoch 5/5, Train Accuracy: 75.3%, val Accuracy: 76.4%\n",
      "Epoch 5/5, Test Accuracy: 73.7%\n"
     ]
    }
   ],
   "source": [
    "#she is there\n",
    "#MARTIN IS PLAYING\n",
    "import torch.optim as optim\n",
    "\n",
    "#optimizer_adam = torch.optim.Adam(model.parameters(), lr=0.0001)\n",
    "optimizer = optimizer_adam\n",
    "scheduler = optim.lr_scheduler.ReduceLROnPlateau(optimizer, 'min', min_lr=1e-5, patience=50, factor=0.1)\n",
    "\n",
    "#optimizer = optim.SGD(vcopn.parameters(), lr=args.lr, momentum=args.momentum, weight_decay=args.wd)\n",
    "#scheduler = optim.lr_scheduler.ReduceLROnPlateau(optimizer, 'min', min_lr=1e-5, patience=50, factor=0.1)\n",
    "\n",
    "\n",
    "num_epochs = 5\n",
    "loss_function = nn.BCEWithLogitsLoss()\n",
    "\n",
    "for epoch in tqdm(range(num_epochs), unit='epoch'):\n",
    "    model.train()  \n",
    "    train_correct = 0\n",
    "    for minibatch_no, (data, target) in tqdm(enumerate(train_loader), total=len(train_loader)):\n",
    "        data, target = data.to(device), target.to(device)\n",
    "        optimizer.zero_grad()\n",
    "        output = model(data)\n",
    "        loss = loss_function(output.squeeze(), target.float())  \n",
    "        loss.backward()\n",
    "        optimizer.step()\n",
    "        \n",
    "        predicted = (output > 0).float()  # Connverts logits to 0s and 1s\n",
    "        train_correct += (target == predicted.squeeze()).sum().item()\n",
    "\n",
    "    model.eval()  # Set the model to evaluation mode\n",
    "    val_correct = 0\n",
    "    with torch.no_grad():\n",
    "        for data, target in  val_loader:\n",
    "            data, target = data.to(device), target.to(device)\n",
    "            output = model(data)\n",
    "            loss = loss_function(output.squeeze(), target.float())  \n",
    "      \n",
    "            scheduler.step(loss)\n",
    "            predicted = (output > 0).float()  # Convert logits to 0s and 1s\n",
    "            val_correct += (target == predicted.squeeze()).sum().item()\n",
    "            \n",
    "\n",
    "    train_acc = train_correct / len(trainset)\n",
    "    val_acc = val_correct / len(val_dataset)\n",
    "    print(f\"Epoch {epoch+1}/{num_epochs}, Train Accuracy: {train_acc*100:.1f}%, val Accuracy: {val_acc*100:.1f}%\")\n",
    "\n",
    " \n",
    "test_correct = 0\n",
    "with torch.no_grad():\n",
    "    for data, target in test_loader:\n",
    "        data, target = data.to(device), target.to(device)\n",
    "        output = model(data)\n",
    "        predicted = (output > 0).float()  # Convert logits to 0s and 1s\n",
    "        test_correct += (target == predicted.squeeze()).sum().item()\n",
    "\n",
    " \n",
    "test_acc = test_correct / len(testset)\n",
    "print(f\"Epoch {epoch+1}/{num_epochs}, Test Accuracy: {test_acc*100:.1f}%\")\n",
    "\n",
    "\n",
    " "
   ]
  },
  {
   "cell_type": "code",
   "execution_count": null,
   "metadata": {},
   "outputs": [
    {
     "data": {
      "application/vnd.jupyter.widget-view+json": {
       "model_id": "6b2b18dc0eae404e8ea22d007dbb0d5c",
       "version_major": 2,
       "version_minor": 0
      },
      "text/plain": [
       "  0%|          | 0/5 [00:00<?, ?epoch/s]"
      ]
     },
     "metadata": {},
     "output_type": "display_data"
    },
    {
     "data": {
      "application/vnd.jupyter.widget-view+json": {
       "model_id": "6502c7891a874066acb6db566f31002d",
       "version_major": 2,
       "version_minor": 0
      },
      "text/plain": [
       "  0%|          | 0/32 [00:00<?, ?it/s]"
      ]
     },
     "metadata": {},
     "output_type": "display_data"
    },
    {
     "ename": "RuntimeError",
     "evalue": "Expected all tensors to be on the same device, but found at least two devices, cuda:0 and cpu!",
     "output_type": "error",
     "traceback": [
      "\u001b[0;31m---------------------------------------------------------------------------\u001b[0m",
      "\u001b[0;31mRuntimeError\u001b[0m                              Traceback (most recent call last)",
      "Cell \u001b[0;32mIn[13], line 39\u001b[0m\n\u001b[1;32m     37\u001b[0m         output \u001b[38;5;241m=\u001b[39m model(data)\n\u001b[1;32m     38\u001b[0m     predicted \u001b[38;5;241m=\u001b[39m (output \u001b[38;5;241m>\u001b[39m \u001b[38;5;241m0\u001b[39m)\u001b[38;5;241m.\u001b[39mfloat() \u001b[38;5;66;03m## also changed here from argmax\u001b[39;00m\n\u001b[0;32m---> 39\u001b[0m     test_correct \u001b[38;5;241m+\u001b[39m\u001b[38;5;241m=\u001b[39m (\u001b[43mtarget\u001b[49m\u001b[38;5;241;43m==\u001b[39;49m\u001b[43mpredicted\u001b[49m)\u001b[38;5;241m.\u001b[39msum()\u001b[38;5;241m.\u001b[39mitem()\n\u001b[1;32m     40\u001b[0m train_acc \u001b[38;5;241m=\u001b[39m train_correct\u001b[38;5;241m/\u001b[39m\u001b[38;5;28mlen\u001b[39m(trainset)\n\u001b[1;32m     41\u001b[0m test_acc \u001b[38;5;241m=\u001b[39m test_correct\u001b[38;5;241m/\u001b[39m\u001b[38;5;28mlen\u001b[39m(testset)\n",
      "\u001b[0;31mRuntimeError\u001b[0m: Expected all tensors to be on the same device, but found at least two devices, cuda:0 and cpu!"
     ]
    }
   ],
   "source": [
    "# optimizer = optimizer_adam\n",
    "# num_epochs = 5\n",
    "# loss_function = nn.BCEWithLogitsLoss()\n",
    "\n",
    "# for epoch in tqdm(range(num_epochs), unit='epoch'):\n",
    "#     #For each epoch\n",
    "#     # train_correct = \n",
    "#     running_loss = 0\n",
    "#     for minibatch_no, (data, target) in tqdm(enumerate(train_loader), total=len(train_loader)):\n",
    "#         data, target = data.to(device), target.to(device)\n",
    "#         #Zero the gradients computed for each weight\n",
    "#         optimizer.zero_grad()\n",
    "#         #Forward pass your image through the network\n",
    "#         output = model(data)\n",
    "        \n",
    "#         #Compute the loss\n",
    "#         # output = output.view(output.size(0), -1)\n",
    "#         # output = output[0]\n",
    "#         # print(output.shape)\n",
    "#         # print(target.shape)\n",
    "#         # print(torch.log(output))\n",
    "#         # loss = F.nll_loss(torch.log(output), target)\n",
    "#         # loss = F.binary_cross_entropy(output, target)\n",
    "#         loss = loss_function(output, target.unsqueeze(1).float())\n",
    "#         #Backward pass through the network\n",
    "#         loss.backward()\n",
    "#         #Update the weights\n",
    "#         optimizer.step()\n",
    "#         running_loss += loss.item()\n",
    "#         #Compute how many were correctly classified\n",
    "#         predicted = (output > 0).float() #predicted = output.argmax(1) ## THIS IS WRONG; \n",
    "#         train_correct += (target == predicted.squeeze()).sum().item() #train_correct += (target==predicted).sum().cpu().item()\n",
    "#     #Comput the test accuracy\n",
    "#     test_correct = 0\n",
    "#     for data, target in test_loader:\n",
    "#         data = data.to(device)\n",
    "#         with torch.no_grad():\n",
    "#             output = model(data)\n",
    "#         predicted = (output > 0).float() ## also changed here from argmax\n",
    "#         test_correct += (target==predicted).sum().item()\n",
    "#     train_acc = train_correct/len(trainset)\n",
    "#     test_acc = test_correct/len(testset)\n",
    "#     print(\"Accuracy train: {train:.1f}%\\t test: {test:.1f}%\".format(test=100*test_acc, train=100*train_acc))"
   ]
  },
  {
   "cell_type": "markdown",
   "metadata": {},
   "source": [
    "<h1>Salient Maps</h1>"
   ]
  },
  {
   "cell_type": "code",
   "execution_count": 19,
   "metadata": {},
   "outputs": [
    {
     "name": "stdout",
     "output_type": "stream",
     "text": [
      "tensor([[-0.0254]], device='cuda:0', grad_fn=<AddmmBackward0>)\n",
      "tensor(-0.0254, device='cuda:0', grad_fn=<SelectBackward0>)\n"
     ]
    },
    {
     "data": {
      "image/png": "[encoded data removed]",
      "text/plain": [
       "<Figure size 1200x600 with 2 Axes>"
      ]
     },
     "metadata": {},
     "output_type": "display_data"
    }
   ],
   "source": [
    "X = next(iter(train_loader))[0].to(device)\n",
    "X = next(iter(train_loader))[0].to(device)\n",
    "X = X[0].to(device) #get single shape\n",
    "model = Network04()\n",
    "\n",
    "# we would run the model in evaluation mode\n",
    "model.to(device)\n",
    "\n",
    "for param in model.parameters():\n",
    "    param.requires_grad = False\n",
    "model.eval()\n",
    "\n",
    "X = X.unsqueeze(0)\n",
    "# print(X.shape)\n",
    "# print(X)\n",
    "# print(X.shape)\n",
    "X.requires_grad = True\n",
    "\n",
    "\n",
    "scores = model(X)\n",
    "print(scores)\n",
    "\n",
    "# # Get the index corresponding to the maximum score and the maximum score itself.\n",
    "score_max_index = scores.argmax()\n",
    "score_max = scores[0,score_max_index]\n",
    "print(score_max)\n",
    "\n",
    "score_max.backward()\n",
    "\n",
    "# '''\n",
    "# Saliency would be the gradient with respect to the input image now. But note that the input image has 3 channels,\n",
    "# R, G and B. To derive a single class saliency value for each pixel (i, j),  we take the maximum magnitude\n",
    "# across all colour channels.\n",
    "# '''\n",
    "saliency, _ = torch.max(X.grad.data.abs(),dim=1)\n",
    "saliency = saliency.to('cpu')\n",
    "\n",
    "fig, axes = plt.subplots(1, 2, figsize=(12, 6))\n",
    "\n",
    "# Plot the first saliency map on the first subplot\n",
    "axes[0].imshow(saliency[0], cmap=plt.cm.hot)\n",
    "axes[0].axis('off')  # Hide the axis on the first subplot\n",
    "axes[0].set_title('Saliency Map 1')  # Optional: Set a title for the first subplot\n",
    "\n",
    "X = X.squeeze(0)\n",
    "X = X.to('cpu')\n",
    "# Plot the second saliency map on the second subplot\n",
    "axes[1].imshow(np.swapaxes(np.swapaxes(X.detach().numpy(), 0, 2), 0, 1))\n",
    "axes[1].axis('off')  # Hide the axis on the second subplot\n",
    "axes[1].set_title('Original Image')  # Optional: Set a title for the second subplot\n",
    "\n",
    "# Display the figure with both subplots\n",
    "plt.show()"
   ]
  },
  {
   "cell_type": "code",
   "execution_count": null,
   "metadata": {},
   "outputs": [],
   "source": []
  },
  {
   "cell_type": "code",
   "execution_count": null,
   "metadata": {},
   "outputs": [],
   "source": []
  },
  {
   "cell_type": "code",
   "execution_count": null,
   "metadata": {},
   "outputs": [],
   "source": []
  },
  {
   "cell_type": "markdown",
   "metadata": {},
   "source": [
    "Saliency maps"
   ]
  },
  {
   "cell_type": "code",
   "execution_count": null,
   "metadata": {},
   "outputs": [],
   "source": []
  }
 ],
 "metadata": {
  "accelerator": "GPU",
  "colab": {
   "collapsed_sections": [],
   "name": "Project 1.1.ipynb",
   "provenance": []
  },
  "kernelspec": {
   "display_name": "Python 3 (ipykernel)",
   "language": "python",
   "name": "python3"
  },
  "language_info": {
   "codemirror_mode": {
    "name": "ipython",
    "version": 3
   },
   "file_extension": ".py",
   "mimetype": "text/x-python",
   "name": "python",
   "nbconvert_exporter": "python",
   "pygments_lexer": "ipython3",
   "version": "3.10.13"
  }
 },
 "nbformat": 4,
 "nbformat_minor": 1
}
